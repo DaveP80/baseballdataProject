{
 "cells": [
  {
   "cell_type": "code",
   "execution_count": null,
   "metadata": {},
   "outputs": [],
   "source": [
    "import pandas as pd\n",
    "import os\n",
    "from dotenv import load_dotenv\n",
    "import mysql.connector\n",
    "import warnings\n",
    "warnings.filterwarnings('ignore')\n",
    "# Load environment variables from .env file\n",
    "load_dotenv()\n",
    "# Access the password variable from the .env file\n",
    "password = os.getenv('PWD')\n",
    "# Connect to the MySQL database\n",
    "cnx = mysql.connector.connect(user='root', password=password,\n",
    "                              host='localhost', database='wheredb')\n",
    "cursor = cnx.cursor()\n",
    "\n",
    "data = pd.read_csv('savant_data.csv')\n",
    "data.fillna(0, inplace=True)  # Replace NaN with 0\n",
    "for _, row in data.iterrows():\n",
    "    sql = \"INSERT INTO baseball (pitch_type, game_date, release_speed, player_name, batter, pitcher, events, outs_when_up, inning, hit_distance_sc, pitch_number, pitch_name) VALUES (%s, %s, %s,%s, %s, %s,%s, %s, %s,%s, %s, %s)\"  # Replace column names and table name\n",
    "        \n",
    "    values = (row['pitch_type'], row['game_date'], row['release_speed'],row['player_name'], row['batter'], row['pitcher'], row['events'], row['outs_when_up'], row['inning'], row['hit_distance_sc'], row['pitch_number'], row['pitch_name'])  # Replace column names\n",
    "    print(values)\n",
    "\n",
    "    cursor.execute(sql, values)\n",
    "\n",
    "cnx.commit()  # Commit the changes\n",
    "cursor.close()\n",
    "cnx.close()\n"
   ]
  },
  {
   "cell_type": "code",
   "execution_count": 1,
   "metadata": {},
   "outputs": [
    {
     "data": {
      "text/html": [
       "<div>\n",
       "<style scoped>\n",
       "    .dataframe tbody tr th:only-of-type {\n",
       "        vertical-align: middle;\n",
       "    }\n",
       "\n",
       "    .dataframe tbody tr th {\n",
       "        vertical-align: top;\n",
       "    }\n",
       "\n",
       "    .dataframe thead th {\n",
       "        text-align: right;\n",
       "    }\n",
       "</style>\n",
       "<table border=\"1\" class=\"dataframe\">\n",
       "  <thead>\n",
       "    <tr style=\"text-align: right;\">\n",
       "      <th></th>\n",
       "      <th>fastpitch</th>\n",
       "      <th>pitches</th>\n",
       "      <th>ratio</th>\n",
       "    </tr>\n",
       "  </thead>\n",
       "  <tbody>\n",
       "    <tr>\n",
       "      <th>0</th>\n",
       "      <td>3120</td>\n",
       "      <td>7287</td>\n",
       "      <td>0.42816</td>\n",
       "    </tr>\n",
       "  </tbody>\n",
       "</table>\n",
       "</div>"
      ],
      "text/plain": [
       "   fastpitch  pitches    ratio\n",
       "0       3120     7287  0.42816"
      ]
     },
     "execution_count": 1,
     "metadata": {},
     "output_type": "execute_result"
    }
   ],
   "source": [
    "# Define the SQL query\n",
    "query = 'SELECT * FROM baseball'\n",
    "# Execute the SQL query\n",
    "cursor.execute(query)\n",
    "# Fetch the results into a Pandas DataFrame\n",
    "columns = [col[0] for col in cursor.description]\n",
    "results = cursor.fetchall()\n",
    "baseball_data = pd.DataFrame(results, columns=columns)\n",
    "# Read the data from the CSV file into a DataFrame\n",
    "# Filter the DataFrame for release_speed > 92 and calculate the count\n",
    "fastpitch_count = len(baseball_data[baseball_data['release_speed'] > 92])\n",
    "\n",
    "# Calculate the total number of pitches\n",
    "total_pitches = len(baseball_data)\n",
    "\n",
    "# Create a DataFrame with the count values\n",
    "count_data = pd.DataFrame({'fastpitch': [fastpitch_count], 'pitches': [total_pitches]})\n",
    "\n",
    "# Calculate the ratio column\n",
    "count_data['ratio'] = (count_data['fastpitch'] / count_data['pitches']) * 1.0\n",
    "\n",
    "# Display the resulting DataFrame\n",
    "count_data\n",
    "cursor.close()\n",
    "cnx.close()\n"
   ]
  }
 ],
 "metadata": {
  "kernelspec": {
   "display_name": "Python 3",
   "language": "python",
   "name": "python3"
  },
  "language_info": {
   "codemirror_mode": {
    "name": "ipython",
    "version": 3
   },
   "file_extension": ".py",
   "mimetype": "text/x-python",
   "name": "python",
   "nbconvert_exporter": "python",
   "pygments_lexer": "ipython3",
   "version": "3.10.8"
  },
  "orig_nbformat": 4
 },
 "nbformat": 4,
 "nbformat_minor": 2
}
