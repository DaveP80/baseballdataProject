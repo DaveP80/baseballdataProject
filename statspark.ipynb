{
 "cells": [
  {
   "cell_type": "code",
   "execution_count": 3,
   "metadata": {},
   "outputs": [
    {
     "name": "stdout",
     "output_type": "stream",
     "text": [
      "+-------+----------+----------+-----------------+--------------+-----------------+-----------------+--------------+------------------+------------------+------------------+------------------+---------------+\n",
      "|summary|pitch_type| game_date|    release_speed|   player_name|           batter|          pitcher|        events|      outs_when_up|            inning|   hit_distance_sc|      pitch_number|     pitch_name|\n",
      "+-------+----------+----------+-----------------+--------------+-----------------+-----------------+--------------+------------------+------------------+------------------+------------------+---------------+\n",
      "|  count|      7287|      7287|             7287|          7287|             7287|             7287|          1888|              7287|              7287|              2405|              7287|           7287|\n",
      "|   mean|      null|      null| 89.9506518457527|          null|630921.3012213531|622292.6497872925|          null| 1.004665843282558| 4.962947715109099|150.56133056133055| 2.887196377109922|           null|\n",
      "| stddev|      null|      null|5.864294018217994|          null|52269.55135789738|42959.69085591363|          null|0.8212322243823837|2.5872636135862037|120.80235126619084|1.7084856848787735|           null|\n",
      "|    min|        CH|2023-04-13|              100| Abreu, Albert|           443558|           543037|catcher_interf|                 0|                 1|                 0|                 1|4-Seam Fastball|\n",
      "|    max|        ST|2023-06-06|             99.7|Weissert, Greg|           687401|           681190|          walk|                 2|                 9|                99|                 9|        Sweeper|\n",
      "+-------+----------+----------+-----------------+--------------+-----------------+-----------------+--------------+------------------+------------------+------------------+------------------+---------------+\n",
      "\n"
     ]
    }
   ],
   "source": [
    "import pyspark\n",
    "from pyspark.sql import SparkSession\n",
    "spark = SparkSession.builder.appName(\"pyspark_baseball\").getOrCreate()\n",
    "#df = spark.read.csv('data/savant_data.csv')\n",
    "#df.show()\n",
    "df = spark.read.option(\"header\", True).csv('data/savant_data.csv')\n",
    "df.describe().show()"
   ]
  }
 ],
 "metadata": {
  "kernelspec": {
   "display_name": "venv",
   "language": "python",
   "name": "python3"
  },
  "language_info": {
   "codemirror_mode": {
    "name": "ipython",
    "version": 3
   },
   "file_extension": ".py",
   "mimetype": "text/x-python",
   "name": "python",
   "nbconvert_exporter": "python",
   "pygments_lexer": "ipython3",
   "version": "3.10.8"
  },
  "orig_nbformat": 4
 },
 "nbformat": 4,
 "nbformat_minor": 2
}
