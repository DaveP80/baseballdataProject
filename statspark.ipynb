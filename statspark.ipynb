{
 "cells": [
  {
   "cell_type": "code",
   "execution_count": 7,
   "metadata": {},
   "outputs": [
    {
     "name": "stdout",
     "output_type": "stream",
     "text": [
      "+-------+----------+----------+-----------------+--------------+-----------------+-----------------+--------------+------------------+------------------+------------------+------------------+---------------+\n",
      "|summary|pitch_type| game_date|    release_speed|   player_name|           batter|          pitcher|        events|      outs_when_up|            inning|   hit_distance_sc|      pitch_number|     pitch_name|\n",
      "+-------+----------+----------+-----------------+--------------+-----------------+-----------------+--------------+------------------+------------------+------------------+------------------+---------------+\n",
      "|  count|      7287|      7287|             7287|          7287|             7287|             7287|          1888|              7287|              7287|              2405|              7287|           7287|\n",
      "|   mean|      null|      null| 89.9506518457527|          null|630921.3012213531|622292.6497872925|          null| 1.004665843282558| 4.962947715109099|150.56133056133055| 2.887196377109922|           null|\n",
      "| stddev|      null|      null|5.864294018217994|          null|52269.55135789738|42959.69085591363|          null|0.8212322243823837|2.5872636135862037|120.80235126619084|1.7084856848787735|           null|\n",
      "|    min|        CH|2023-04-13|              100| Abreu, Albert|           443558|           543037|catcher_interf|                 0|                 1|                 0|                 1|4-Seam Fastball|\n",
      "|    max|        ST|2023-06-06|             99.7|Weissert, Greg|           687401|           681190|          walk|                 2|                 9|                99|                 9|        Sweeper|\n",
      "+-------+----------+----------+-----------------+--------------+-----------------+-----------------+--------------+------------------+------------------+------------------+------------------+---------------+\n",
      "\n"
     ]
    },
    {
     "data": {
      "text/plain": [
       "90.31121251629725"
      ]
     },
     "execution_count": 7,
     "metadata": {},
     "output_type": "execute_result"
    }
   ],
   "source": [
    "import pyspark\n",
    "from pyspark.sql import SparkSession\n",
    "spark = SparkSession.builder.appName(\"pyspark_baseball\").getOrCreate()\n",
    "#df = spark.read.csv('data/savant_data.csv')\n",
    "#df.show()\n",
    "df = spark.read.option(\"header\", True).csv('data/savant_data.csv')\n",
    "df.describe().show()\n",
    "\n",
    "# Define the column name to filter on and calculate the mean of another column\n",
    "filter_column = 'inning'\n",
    "filter_value = 8\n",
    "mean_column = 'release_speed'\n",
    "\n",
    "# Filter the DataFrame based on the condition and calculate the mean\n",
    "mean_value = df.filter(df[filter_column] == filter_value).agg({mean_column: 'mean'}).collect()[0][0]\n",
    "# average release speed in the 8th inning\n",
    "mean_value\n"
   ]
  },
  {
   "cell_type": "code",
   "execution_count": 28,
   "metadata": {},
   "outputs": [
    {
     "data": {
      "text/plain": [
       "['4-Seam Fastball',\n",
       " 'Sweeper',\n",
       " 'Eephus',\n",
       " 'Pitch Out',\n",
       " 'Other',\n",
       " 'Sinker',\n",
       " 'Curveball',\n",
       " 'Changeup',\n",
       " 'Slider',\n",
       " 'Cutter',\n",
       " 'Knuckle Curve']"
      ]
     },
     "execution_count": 28,
     "metadata": {},
     "output_type": "execute_result"
    }
   ],
   "source": [
    "column_name = 'pitch_name'\n",
    "# Read the CSV file into a DataFrame\n",
    "df = spark.read.csv('data/savant_data.csv', header=True, inferSchema=True)\n",
    "# Get unique values from the column\n",
    "unique_values = df.select(column_name).distinct().collect()\n",
    "# all the unique pitch names in the csv\n",
    "[r['pitch_name'] for r in unique_values]"
   ]
  }
 ],
 "metadata": {
  "kernelspec": {
   "display_name": "venv",
   "language": "python",
   "name": "python3"
  },
  "language_info": {
   "codemirror_mode": {
    "name": "ipython",
    "version": 3
   },
   "file_extension": ".py",
   "mimetype": "text/x-python",
   "name": "python",
   "nbconvert_exporter": "python",
   "pygments_lexer": "ipython3",
   "version": "3.10.8"
  },
  "orig_nbformat": 4
 },
 "nbformat": 4,
 "nbformat_minor": 2
}
